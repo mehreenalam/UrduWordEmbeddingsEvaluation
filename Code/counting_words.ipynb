{
  "nbformat": 4,
  "nbformat_minor": 0,
  "metadata": {
    "colab": {
      "name": "counting_words.ipynb",
      "provenance": [],
      "collapsed_sections": []
    },
    "kernelspec": {
      "name": "python3",
      "display_name": "Python 3"
    },
    "accelerator": "GPU"
  },
  "cells": [
    {
      "cell_type": "code",
      "metadata": {
        "id": "28LFx0nX4VQ0",
        "colab_type": "code",
        "colab": {}
      },
      "source": [
        "from google.colab import drive\n",
        "drive.mount('/content/drive')"
      ],
      "execution_count": 0,
      "outputs": []
    },
    {
      "cell_type": "markdown",
      "metadata": {
        "id": "nbW8oN3j5MT0",
        "colab_type": "text"
      },
      "source": [
        "# **Functions**"
      ]
    },
    {
      "cell_type": "code",
      "metadata": {
        "id": "JNJHyRpt4hoc",
        "colab_type": "code",
        "colab": {}
      },
      "source": [
        "def get_lines(path, filename):\n",
        "    \"\"\" Returns a list of lines from the file located in the path\"\"\"\n",
        "    lines = []\n",
        "    \n",
        "    with open(path + filename, \"r\", encoding=\"utf-8-sig\") as file:\n",
        "        lines = file.readlines()\n",
        "\n",
        "    lines = [line.strip('\\n') for line in lines]\n",
        "    \n",
        "    return lines\n",
        "\n",
        "def get_word_counts(lines):\n",
        "    \"\"\" Takes a list of lines as argument\n",
        "        Returns the number of total words and unique words in those lines\"\"\"\n",
        "    words_dict = {}\n",
        "    total_word_count = 0\n",
        "    unique_word_count = 0\n",
        "\n",
        "    for line in lines:\n",
        "        words = line.split(' ')\n",
        "        for word in words:\n",
        "            total_word_count += 1\n",
        "\n",
        "            if word not in words_dict:\n",
        "                words_dict[word] = 1\n",
        "                unique_word_count += 1\n",
        "            else:\n",
        "                words_dict[word] += 1\n",
        "\n",
        "    return total_word_count, unique_word_count"
      ],
      "execution_count": 0,
      "outputs": []
    },
    {
      "cell_type": "code",
      "metadata": {
        "id": "yOGDg_jD9Tqr",
        "colab_type": "code",
        "colab": {}
      },
      "source": [
        "path = '/content/drive/My Drive/Shared/FYP/Data/'\n",
        "filename = 'urdu_fixed.txt'"
      ],
      "execution_count": 0,
      "outputs": []
    },
    {
      "cell_type": "code",
      "metadata": {
        "id": "D6pmT1Av5iXB",
        "colab_type": "code",
        "colab": {}
      },
      "source": [
        "urdu_lines = get_lines(path, filename)"
      ],
      "execution_count": 0,
      "outputs": []
    },
    {
      "cell_type": "code",
      "metadata": {
        "id": "TPrmP8OD57mF",
        "colab_type": "code",
        "colab": {}
      },
      "source": [
        "total_word_count, unique_word_count = get_word_counts(urdu_lines)"
      ],
      "execution_count": 0,
      "outputs": []
    },
    {
      "cell_type": "code",
      "metadata": {
        "id": "oIJfKEkC7VYq",
        "colab_type": "code",
        "colab": {}
      },
      "source": [
        "print(\"Unique Words: {}\".format(unique_word_count))\n",
        "print(\"Total Words: {}\".format(total_word_count))"
      ],
      "execution_count": 0,
      "outputs": []
    }
  ]
}