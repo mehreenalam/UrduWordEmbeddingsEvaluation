{
 "cells": [
  {
   "cell_type": "markdown",
   "metadata": {
    "colab_type": "text",
    "id": "f3BjUq9lBB3B"
   },
   "source": [
    "## Drive code"
   ]
  },
  {
   "cell_type": "code",
   "execution_count": null,
   "metadata": {
    "colab": {},
    "colab_type": "code",
    "id": "M6kO-AwU9tUL"
   },
   "outputs": [],
   "source": [
    "from google.colab import drive, files "
   ]
  },
  {
   "cell_type": "code",
   "execution_count": null,
   "metadata": {
    "colab": {
     "base_uri": "https://localhost:8080/",
     "height": 122
    },
    "colab_type": "code",
    "executionInfo": {
     "elapsed": 82880,
     "status": "ok",
     "timestamp": 1568220256755,
     "user": {
      "displayName": "i160123 Abubakar Ijaz",
      "photoUrl": "",
      "userId": "01855630487142502889"
     },
     "user_tz": -300
    },
    "id": "7frVhT7_9uDC",
    "outputId": "0dca0440-c19c-42ff-8a82-09b32f4fcbfd"
   },
   "outputs": [],
   "source": [
    "drive.mount('/content/drive')"
   ]
  },
  {
   "cell_type": "markdown",
   "metadata": {
    "colab_type": "text",
    "id": "FlLFbq6t9IvZ"
   },
   "source": [
    "## Functions"
   ]
  },
  {
   "cell_type": "code",
   "execution_count": null,
   "metadata": {
    "colab": {},
    "colab_type": "code",
    "id": "vtgHS9Vx9Ivg"
   },
   "outputs": [],
   "source": [
    "def get_lines(filename):\n",
    "    \"\"\"Returns a list of lines from filename\"\"\"\n",
    "    lines = []\n",
    "    \n",
    "    with open(filename, \"r\", encoding=\"utf-8-sig\") as text_file:\n",
    "        for line in text_file:\n",
    "            lines.append(line)\n",
    "            \n",
    "    return lines\n",
    "\n",
    "def get_words_without_spaces():\n",
    "    \"\"\"Returns a list of words without spaces\"\"\"\n",
    "    #file_1 = get_lines(\"/content/drive/My Drive/Shared/FYP/FYP Data/urdu_words_without_spaces_1.txt\")\n",
    "    #file_2 = get_lines(\"/content/drive/My Drive/Shared/FYP/FYP Data/urdu_words_without_spaces_2.txt\")\n",
    "    #file_3 = get_lines(\"/content/drive/My Drive/Shared/FYP/FYP Data/urdu_words_without_spaces_3.txt\")\n",
    "    \n",
    "    file_1 = get_lines(\"/content/drive/My Drive/urdu_words_without_spaces_1.txt\")\n",
    "    file_2 = get_lines(\"/content/drive/My Drive/urdu_words_without_spaces_2.txt\")\n",
    "    file_3 = get_lines(\"/content/drive/My Drive/urdu_words_without_spaces_3.txt\")\n",
    "    \n",
    "    \n",
    "    words_without_spaces = file_1 + file_2 + file_3            \n",
    "    words_without_spaces = [line.strip() for line in words_without_spaces]\n",
    "            \n",
    "    return words_without_spaces\n",
    "\n",
    "def get_words_with_spaces():\n",
    "    \"\"\"Returns a list of words with spaces\"\"\"\n",
    "    #file_1 = get_lines(\"/content/drive/My Drive/Shared/FYP/FYP Data/urdu_words_with_spaces_1.txt\")\n",
    "    #file_2 = get_lines(\"/content/drive/My Drive/Shared/FYP/FYP Data/urdu_words_with_spaces_2.txt\")\n",
    "    #file_3 = get_lines(\"/content/drive/My Drive/Shared/FYP/FYP Data/urdu_words_with_spaces_3.txt\")\n",
    "    \n",
    "    file_1 = get_lines(\"/content/drive/My Drive/urdu_words_with_spaces_1.txt\")\n",
    "    file_2 = get_lines(\"/content/drive/My Drive/urdu_words_with_spaces_2.txt\")\n",
    "    file_3 = get_lines(\"/content/drive/My Drive/urdu_words_with_spaces_3.txt\")\n",
    "    \n",
    "    words_with_spaces = file_1 + file_2 + file_3            \n",
    "    words_with_spaces = [line.strip() for line in words_with_spaces]\n",
    "            \n",
    "    return words_with_spaces\n",
    "\n",
    "def get_urdu_lines():\n",
    "    \"\"\"Returns a list of lines from the urdu.txt file\"\"\"\n",
    "    urdu_lines = []\n",
    "    \n",
    "    with open(\"/content/drive/My Drive/urdu.txt\", \"r\", encoding=\"utf-8-sig\") as urdu_file:\n",
    "        urdu_lines = urdu_file.readlines()\n",
    "\n",
    "    urdu_lines = [line.strip('\\n') for line in urdu_lines]\n",
    "    \n",
    "    return urdu_lines"
   ]
  },
  {
   "cell_type": "markdown",
   "metadata": {
    "colab_type": "text",
    "id": "gkOd6KQR9Ivt"
   },
   "source": [
    "## Reading the files"
   ]
  },
  {
   "cell_type": "code",
   "execution_count": null,
   "metadata": {
    "colab": {},
    "colab_type": "code",
    "id": "5bWBBEqt9Ivw"
   },
   "outputs": [],
   "source": [
    "urdu_lines = get_urdu_lines()\n",
    "words_without_spaces = get_words_without_spaces()\n",
    "words_with_spaces = get_words_with_spaces()"
   ]
  },
  {
   "cell_type": "code",
   "execution_count": null,
   "metadata": {
    "colab": {},
    "colab_type": "code",
    "id": "Xoocm8UeFf5H"
   },
   "outputs": [],
   "source": [
    "import pandas as pd"
   ]
  },
  {
   "cell_type": "code",
   "execution_count": null,
   "metadata": {
    "colab": {
     "base_uri": "https://localhost:8080/",
     "height": 204
    },
    "colab_type": "code",
    "executionInfo": {
     "elapsed": 2099,
     "status": "ok",
     "timestamp": 1568220602077,
     "user": {
      "displayName": "i160123 Abubakar Ijaz",
      "photoUrl": "",
      "userId": "01855630487142502889"
     },
     "user_tz": -300
    },
    "id": "aic4o2n9N8u7",
    "outputId": "710bdf75-2179-4457-8c31-9541c097ce79"
   },
   "outputs": [],
   "source": [
    "df = pd.DataFrame(urdu_lines)\n",
    "df.head()"
   ]
  },
  {
   "cell_type": "markdown",
   "metadata": {
    "colab_type": "text",
    "id": "nN_hwlSE9T-8"
   },
   "source": [
    "## Fixing the lines"
   ]
  },
  {
   "cell_type": "code",
   "execution_count": null,
   "metadata": {
    "colab": {
     "base_uri": "https://localhost:8080/",
     "height": 1000
    },
    "colab_type": "code",
    "executionInfo": {
     "elapsed": 1508505,
     "status": "ok",
     "timestamp": 1568222149426,
     "user": {
      "displayName": "i160123 Abubakar Ijaz",
      "photoUrl": "",
      "userId": "01855630487142502889"
     },
     "user_tz": -300
    },
    "id": "H8FTsyTE9IwC",
    "outputId": "86d4337b-8cc6-466f-fe5e-d26cc897498c"
   },
   "outputs": [],
   "source": [
    "words_modified = 0\n",
    "lines_modified = 0\n",
    "print(\"{}0K lines to process....\".format(int(len(urdu_lines) / 10000)))\n",
    "\n",
    "i = 0\n",
    "for sentence in df[0]:\n",
    "    index = 0\n",
    "    flag = True\n",
    "    for words in words_without_spaces:\n",
    "        if words in sentence:\n",
    "            urdu_lines[i] = urdu_lines[i].replace(words, words_with_spaces[index])  \n",
    "            words_modified += 1\n",
    "            flag = False\n",
    "         \n",
    "        index += 1\n",
    "    \n",
    "    if flag == False:\n",
    "        lines_modified += 1\n",
    "    \n",
    "    if i % 10000 == 0:\n",
    "        print(\"Processed {}0K lines...\".format(int(i / 10000)))\n",
    "    i += 1\n",
    "\n",
    "print(\"{} Words modified!\".format(words_modified))      \n",
    "print(\"{} Lines modified!\".format(lines_modified))     "
   ]
  },
  {
   "cell_type": "markdown",
   "metadata": {
    "colab_type": "text",
    "id": "mBnI4OimElnD"
   },
   "source": [
    "## Writing the fixed file"
   ]
  },
  {
   "cell_type": "code",
   "execution_count": null,
   "metadata": {
    "colab": {},
    "colab_type": "code",
    "id": "qxQxsyKHElnE"
   },
   "outputs": [],
   "source": [
    "with open('urdu_fixed.txt', 'w', encoding='utf-8-sig') as new_file:\n",
    "    for line in urdu_lines:\n",
    "        new_file.write(\"%s\\n\" % line)"
   ]
  },
  {
   "cell_type": "code",
   "execution_count": null,
   "metadata": {
    "colab": {
     "base_uri": "https://localhost:8080/",
     "height": 442
    },
    "colab_type": "code",
    "executionInfo": {
     "elapsed": 119104,
     "status": "ok",
     "timestamp": 1568223355647,
     "user": {
      "displayName": "i160123 Abubakar Ijaz",
      "photoUrl": "",
      "userId": "01855630487142502889"
     },
     "user_tz": -300
    },
    "id": "vw7rwRIBoUhr",
    "outputId": "889750a9-05b8-4ccc-e94e-1df0424cca6b"
   },
   "outputs": [],
   "source": [
    "files.download('urdu_fixed.txt') "
   ]
  }
 ],
 "metadata": {
  "accelerator": "GPU",
  "colab": {
   "collapsed_sections": [],
   "name": "fixing_spaces_colab.ipynb",
   "provenance": [],
   "toc_visible": true,
   "version": "0.3.2"
  },
  "kernelspec": {
   "display_name": "Python 3",
   "language": "python",
   "name": "python3"
  },
  "language_info": {
   "codemirror_mode": {
    "name": "ipython",
    "version": 3
   },
   "file_extension": ".py",
   "mimetype": "text/x-python",
   "name": "python",
   "nbconvert_exporter": "python",
   "pygments_lexer": "ipython3",
   "version": "3.7.3"
  }
 },
 "nbformat": 4,
 "nbformat_minor": 1
}
