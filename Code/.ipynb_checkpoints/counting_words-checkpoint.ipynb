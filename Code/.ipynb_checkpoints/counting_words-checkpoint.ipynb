{
 "cells": [
  {
   "cell_type": "code",
   "execution_count": 0,
   "metadata": {
    "colab": {},
    "colab_type": "code",
    "id": "28LFx0nX4VQ0"
   },
   "outputs": [],
   "source": [
    "from google.colab import drive\n",
    "drive.mount('/content/drive')"
   ]
  },
  {
   "cell_type": "markdown",
   "metadata": {
    "colab_type": "text",
    "id": "nbW8oN3j5MT0"
   },
   "source": [
    "# **Functions**"
   ]
  },
  {
   "cell_type": "code",
   "execution_count": 0,
   "metadata": {
    "colab": {},
    "colab_type": "code",
    "id": "JNJHyRpt4hoc"
   },
   "outputs": [],
   "source": [
    "def get_lines(path, filename):\n",
    "    \"\"\" Returns a list of lines from the file located in the path\"\"\"\n",
    "    lines = []\n",
    "    \n",
    "    with open(path + filename, \"r\", encoding=\"utf-8-sig\") as file:\n",
    "        lines = file.readlines()\n",
    "\n",
    "    lines = [line.strip('\\n') for line in lines]\n",
    "    \n",
    "    return lines\n",
    "\n",
    "def get_word_counts(lines):\n",
    "    \"\"\" Takes a list of lines as argument\n",
    "        Returns the number of total words and unique words in those lines\"\"\"\n",
    "    words_dict = {}\n",
    "    total_word_count = 0\n",
    "    unique_word_count = 0\n",
    "\n",
    "    for line in lines:\n",
    "        words = line.split(' ')\n",
    "        for word in words:\n",
    "            total_word_count += 1\n",
    "\n",
    "            if word not in words_dict:\n",
    "                words_dict[word] = 1\n",
    "                unique_word_count += 1\n",
    "            else:\n",
    "                words_dict[word] += 1\n",
    "\n",
    "    return total_word_count, unique_word_count"
   ]
  },
  {
   "cell_type": "code",
   "execution_count": 0,
   "metadata": {
    "colab": {},
    "colab_type": "code",
    "id": "yOGDg_jD9Tqr"
   },
   "outputs": [],
   "source": [
    "path = '/content/drive/My Drive/Shared/FYP/Data/'\n",
    "filename = 'urdu_fixed.txt'"
   ]
  },
  {
   "cell_type": "code",
   "execution_count": 0,
   "metadata": {
    "colab": {},
    "colab_type": "code",
    "id": "D6pmT1Av5iXB"
   },
   "outputs": [],
   "source": [
    "urdu_lines = get_lines(path, filename)"
   ]
  },
  {
   "cell_type": "code",
   "execution_count": 0,
   "metadata": {
    "colab": {},
    "colab_type": "code",
    "id": "TPrmP8OD57mF"
   },
   "outputs": [],
   "source": [
    "total_word_count, unique_word_count = get_word_counts(urdu_lines)"
   ]
  },
  {
   "cell_type": "code",
   "execution_count": 0,
   "metadata": {
    "colab": {},
    "colab_type": "code",
    "id": "oIJfKEkC7VYq"
   },
   "outputs": [],
   "source": [
    "print(\"Unique Words: {}\".format(unique_word_count))\n",
    "print(\"Total Words: {}\".format(total_word_count))"
   ]
  }
 ],
 "metadata": {
  "accelerator": "GPU",
  "colab": {
   "collapsed_sections": [],
   "name": "counting_words.ipynb",
   "provenance": []
  },
  "kernelspec": {
   "display_name": "Python 3",
   "language": "python",
   "name": "python3"
  },
  "language_info": {
   "codemirror_mode": {
    "name": "ipython",
    "version": 3
   },
   "file_extension": ".py",
   "mimetype": "text/x-python",
   "name": "python",
   "nbconvert_exporter": "python",
   "pygments_lexer": "ipython3",
   "version": "3.7.3"
  }
 },
 "nbformat": 4,
 "nbformat_minor": 1
}
