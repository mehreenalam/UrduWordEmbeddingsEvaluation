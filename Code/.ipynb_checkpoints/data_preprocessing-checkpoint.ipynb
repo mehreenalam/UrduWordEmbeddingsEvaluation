{
 "cells": [
  {
   "cell_type": "markdown",
   "metadata": {},
   "source": [
    "# Data Preprocessing\n",
    "\n",
    "This notebook contains code snippets we wrote for preprocessing our corpora before training our models"
   ]
  },
  {
   "cell_type": "code",
   "execution_count": null,
   "metadata": {},
   "outputs": [],
   "source": [
    "input_file = 'data/original/roman.txt'\n",
    "output_file = 'data/roman_preprocessed.txt'\n",
    "\n",
    "temp_file_a = 'data/temp_a.txt'\n",
    "temp_file_b = 'data/temp_b.txt'\n",
    "temp_file_c = 'data/temp_c.txt'"
   ]
  },
  {
   "cell_type": "markdown",
   "metadata": {},
   "source": [
    "## Removing punctuation marks"
   ]
  },
  {
   "cell_type": "code",
   "execution_count": null,
   "metadata": {},
   "outputs": [],
   "source": [
    "import string\n",
    "\n",
    "with open(input_file, encoding='utf-8', errors='ignore') as i_f,\\\n",
    "    open(temp_file_a, mode='w', encoding='utf-8', errors='ignore') as o_f:\n",
    "    for sentence in i_f:\n",
    "        sentence = sentence.translate(str.maketrans('', '', string.punctuation))\n",
    "        o_f.write(sentence)"
   ]
  },
  {
   "cell_type": "markdown",
   "metadata": {},
   "source": [
    "## Removing digits"
   ]
  },
  {
   "cell_type": "code",
   "execution_count": null,
   "metadata": {},
   "outputs": [],
   "source": [
    "with open(temp_file_a, encoding='utf-8', errors='ignore') as i_f,\\\n",
    "    open(temp_file_b, 'w', encoding='utf-8', errors='ignore') as o_f:\n",
    "    for sentence in i_f:\n",
    "        o_f.write(\"\".join([character for character in sentence if not character.isdigit()]))"
   ]
  },
  {
   "cell_type": "markdown",
   "metadata": {},
   "source": [
    "## Replacing multiple whitespace characters with single whitespace"
   ]
  },
  {
   "cell_type": "code",
   "execution_count": null,
   "metadata": {},
   "outputs": [],
   "source": [
    "if 'roman' in input_file:\n",
    "    with open(temp_file_b, encoding='utf-8', errors='ignore') as i_f,\\\n",
    "    open(temp_file_c, 'w', encoding='utf-8', errors='ignore') as o_f:\n",
    "        for sentence in i_f:\n",
    "            words = sentence.split()\n",
    "            l = len(words)\n",
    "\n",
    "            for i in range(l):\n",
    "                if i == (l - 1):\n",
    "                    o_f.write(words[i] + '\\n')\n",
    "                else:\n",
    "                    o_f.write(words[i] + ' ')\n",
    "else:\n",
    "    with open(temp_file_b, encoding='utf-8', errors='ignore') as i_f,\\\n",
    "    open(output_file, 'w', encoding='utf-8', errors='ignore') as o_f:\n",
    "        for sentence in i_f:\n",
    "            words = sentence.split()\n",
    "            l = len(words)\n",
    "\n",
    "            for i in range(l):\n",
    "                if i == (l - 1):\n",
    "                    o_f.write(words[i] + '\\n')\n",
    "                else:\n",
    "                    o_f.write(words[i] + ' ')"
   ]
  },
  {
   "cell_type": "markdown",
   "metadata": {},
   "source": [
    "## Converting all characters to lowercase (Roman Urdu only)"
   ]
  },
  {
   "cell_type": "code",
   "execution_count": null,
   "metadata": {},
   "outputs": [],
   "source": [
    "with open(temp_file_c) as i_f, open(output_file, 'w') as o_f:\n",
    "    for sentence in i_f:\n",
    "        sentence = sentence.lower()\n",
    "        o_f.write(sentence)"
   ]
  }
 ],
 "metadata": {
  "kernelspec": {
   "display_name": "Python 3",
   "language": "python",
   "name": "python3"
  },
  "language_info": {
   "codemirror_mode": {
    "name": "ipython",
    "version": 3
   },
   "file_extension": ".py",
   "mimetype": "text/x-python",
   "name": "python",
   "nbconvert_exporter": "python",
   "pygments_lexer": "ipython3",
   "version": "3.7.3"
  }
 },
 "nbformat": 4,
 "nbformat_minor": 2
}
