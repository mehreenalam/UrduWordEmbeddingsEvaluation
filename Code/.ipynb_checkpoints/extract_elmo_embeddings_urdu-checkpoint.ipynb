{
 "cells": [
  {
   "cell_type": "code",
   "execution_count": null,
   "metadata": {
    "colab": {
     "base_uri": "https://localhost:8080/",
     "height": 85
    },
    "colab_type": "code",
    "executionInfo": {
     "elapsed": 21275,
     "status": "ok",
     "timestamp": 1583071605200,
     "user": {
      "displayName": "Abubakar Ijaz",
      "photoUrl": "",
      "userId": "07414178748839891989"
     },
     "user_tz": -300
    },
    "id": "swLS8lRejGYM",
    "outputId": "ebd8df16-8557-4c8f-f3cd-5b407b81d2c5"
   },
   "outputs": [],
   "source": [
    "!git clone https://github.com/allenai/bilm-tf.git"
   ]
  },
  {
   "cell_type": "code",
   "execution_count": null,
   "metadata": {
    "colab": {
     "base_uri": "https://localhost:8080/",
     "height": 34
    },
    "colab_type": "code",
    "executionInfo": {
     "elapsed": 5110,
     "status": "ok",
     "timestamp": 1583071613766,
     "user": {
      "displayName": "Abubakar Ijaz",
      "photoUrl": "",
      "userId": "07414178748839891989"
     },
     "user_tz": -300
    },
    "id": "52QcZjU7jizq",
    "outputId": "80cdd2d1-be16-437b-d398-acc44569d321"
   },
   "outputs": [],
   "source": [
    "cd /content/bilm-tf"
   ]
  },
  {
   "cell_type": "code",
   "execution_count": null,
   "metadata": {
    "colab": {
     "base_uri": "https://localhost:8080/",
     "height": 1000
    },
    "colab_type": "code",
    "executionInfo": {
     "elapsed": 8619,
     "status": "ok",
     "timestamp": 1583071623976,
     "user": {
      "displayName": "Abubakar Ijaz",
      "photoUrl": "",
      "userId": "07414178748839891989"
     },
     "user_tz": -300
    },
    "id": "PNQ6I6pLkRiG",
    "outputId": "458b6374-a78b-4c79-cab2-4f1a70fd66eb"
   },
   "outputs": [],
   "source": [
    "!python setup.py install"
   ]
  },
  {
   "cell_type": "code",
   "execution_count": null,
   "metadata": {
    "colab": {
     "base_uri": "https://localhost:8080/",
     "height": 122
    },
    "colab_type": "code",
    "executionInfo": {
     "elapsed": 45639,
     "status": "ok",
     "timestamp": 1583071673535,
     "user": {
      "displayName": "Abubakar Ijaz",
      "photoUrl": "",
      "userId": "07414178748839891989"
     },
     "user_tz": -300
    },
    "id": "QZLQUafZjyIv",
    "outputId": "0243cde7-8291-44b3-e218-f83b47b83fcd"
   },
   "outputs": [],
   "source": [
    "from google.colab import drive\n",
    "\n",
    "drive.mount('/content/drive')"
   ]
  },
  {
   "cell_type": "code",
   "execution_count": null,
   "metadata": {
    "colab": {},
    "colab_type": "code",
    "id": "yxvEMeQCVZK8"
   },
   "outputs": [],
   "source": [
    "vocab_file = '/content/drive/My Drive/FYP/elmo/urdu/vocab.txt'\n",
    "options_file = '/content/drive/My Drive/FYP/elmo/urdu/options.json'\n",
    "weight_file = '/content/drive/My Drive/FYP/elmo/urdu/weights.hdf5'\n",
    "outfile = '/content/drive/My Drive/FYP/elmo/urdu/embeddings.hdf5'\n",
    "json_file = '/content/drive/My Drive/FYP/elmo/urdu/options.json'"
   ]
  },
  {
   "cell_type": "code",
   "execution_count": null,
   "metadata": {
    "colab": {},
    "colab_type": "code",
    "id": "O_qV82Zkodac"
   },
   "outputs": [],
   "source": [
    "!cp -f \"/content/drive/My Drive/elmo/urdu/embeddings.hdf5\" \"/content/outfile.hdf5\""
   ]
  },
  {
   "cell_type": "code",
   "execution_count": null,
   "metadata": {
    "colab": {
     "base_uri": "https://localhost:8080/",
     "height": 63
    },
    "colab_type": "code",
    "executionInfo": {
     "elapsed": 3095,
     "status": "ok",
     "timestamp": 1583071881518,
     "user": {
      "displayName": "Abubakar Ijaz",
      "photoUrl": "",
      "userId": "07414178748839891989"
     },
     "user_tz": -300
    },
    "id": "A6hSlWXwVodf",
    "outputId": "5d0483b6-93ef-4833-c5f8-3b95d7dee303"
   },
   "outputs": [],
   "source": [
    "import tensorflow as tf\n",
    "tf.get_variable_scope().reuse_variables()\n",
    "\n",
    "from bilm import TokenBatcher, BidirectionalLanguageModel, weight_layers, dump_token_embeddings"
   ]
  },
  {
   "cell_type": "code",
   "execution_count": null,
   "metadata": {
    "colab": {},
    "colab_type": "code",
    "id": "oBsaUeDdXp8m"
   },
   "outputs": [],
   "source": [
    "# Create a TokenBatcher to map text to token ids.\n",
    "batcher = TokenBatcher(vocab_file)\n",
    "\n",
    "# Input placeholders to the biLM.\n",
    "tf.reset_default_graph()\n",
    "context_token_ids = tf.placeholder('int32', shape=(None, None))\n",
    "\n",
    "# Build the biLM graph.\n",
    "bilm = BidirectionalLanguageModel(\n",
    "    options_file,\n",
    "    weight_file,\n",
    "    use_character_inputs=False,\n",
    "    embedding_weight_file=outfile\n",
    ")"
   ]
  },
  {
   "cell_type": "code",
   "execution_count": null,
   "metadata": {
    "colab": {
     "base_uri": "https://localhost:8080/",
     "height": 34
    },
    "colab_type": "code",
    "executionInfo": {
     "elapsed": 4462,
     "status": "ok",
     "timestamp": 1583073459329,
     "user": {
      "displayName": "Abubakar Ijaz",
      "photoUrl": "",
      "userId": "07414178748839891989"
     },
     "user_tz": -300
    },
    "id": "latpqAfac9j6",
    "outputId": "833a8f7f-97f5-4f1a-9cd9-02039f18966f"
   },
   "outputs": [],
   "source": [
    "context_embeddings_op = bilm(context_token_ids)"
   ]
  },
  {
   "cell_type": "markdown",
   "metadata": {
    "colab_type": "text",
    "id": "RZg4LAJnHZqU"
   },
   "source": [
    "## Older code below"
   ]
  },
  {
   "cell_type": "code",
   "execution_count": null,
   "metadata": {
    "colab": {},
    "colab_type": "code",
    "id": "UTJW4lAPlhu3"
   },
   "outputs": [],
   "source": [
    "#raw_context = ['yeh aam si baat hai', 'mujhay aam khana pasand hai']\n",
    "raw_context = [\"\"] #put urdu sentences here, separated by delimeter\n",
    "tokenized_context = [sentence.split() for sentence in raw_context]"
   ]
  },
  {
   "cell_type": "code",
   "execution_count": null,
   "metadata": {
    "colab": {
     "base_uri": "https://localhost:8080/",
     "height": 51
    },
    "colab_type": "code",
    "executionInfo": {
     "elapsed": 4659,
     "status": "ok",
     "timestamp": 1583073475095,
     "user": {
      "displayName": "Abubakar Ijaz",
      "photoUrl": "",
      "userId": "07414178748839891989"
     },
     "user_tz": -300
    },
    "id": "FNnQnq7qXuEN",
    "outputId": "d65b6d77-2441-4baf-8f8f-15efdf22617d"
   },
   "outputs": [],
   "source": [
    "# Get an op to compute ELMo (weighted average of the internal biLM layers)\n",
    "\n",
    "elmo_context_input = weight_layers('input', context_embeddings_op, l2_coef=0.0)\n",
    "\n",
    "with tf.Session() as sess:\n",
    "    # It is necessary to initialize variables once before running inference.\n",
    "    sess.run(tf.global_variables_initializer())\n",
    " \n",
    "    # Create batches of data.\n",
    "    context_ids = batcher.batch_sentences(tokenized_context)\n",
    "    print(\"Shape of context ids = \", context_ids.shape)\n",
    " \n",
    "    # Compute ELMo representations (here for the input only, for simplicity).\n",
    "    elmo_context_input_ = sess.run(\n",
    "        elmo_context_input['weighted_op'],\n",
    "        feed_dict={context_token_ids: context_ids}\n",
    "    )\n",
    " \n",
    "print(\"Shape of generated embeddings = \",elmo_context_input_.shape)"
   ]
  }
 ],
 "metadata": {
  "accelerator": "GPU",
  "colab": {
   "collapsed_sections": [],
   "name": "load_elmo_urdu.ipynb",
   "provenance": [
    {
     "file_id": "1kZdIkHZ5dZrtWA7pr4Ali_gimKx5Lzde",
     "timestamp": 1582540012155
    }
   ]
  },
  "kernelspec": {
   "display_name": "Python 3",
   "language": "python",
   "name": "python3"
  },
  "language_info": {
   "codemirror_mode": {
    "name": "ipython",
    "version": 3
   },
   "file_extension": ".py",
   "mimetype": "text/x-python",
   "name": "python",
   "nbconvert_exporter": "python",
   "pygments_lexer": "ipython3",
   "version": "3.7.3"
  }
 },
 "nbformat": 4,
 "nbformat_minor": 1
}
